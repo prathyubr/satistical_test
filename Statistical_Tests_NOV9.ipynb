{
 "cells": [
  {
   "cell_type": "markdown",
   "id": "ae355277",
   "metadata": {},
   "source": [
    "### 1. Chi-squared Test"
   ]
  },
  {
   "cell_type": "code",
   "execution_count": 3,
   "id": "69caa72f",
   "metadata": {},
   "outputs": [],
   "source": [
    "import seaborn as sns\n",
    "from seaborn import load_dataset"
   ]
  },
  {
   "cell_type": "code",
   "execution_count": 4,
   "id": "48df2ed5",
   "metadata": {},
   "outputs": [
    {
     "data": {
      "text/plain": [
       "['anagrams',\n",
       " 'anscombe',\n",
       " 'attention',\n",
       " 'brain_networks',\n",
       " 'car_crashes',\n",
       " 'diamonds',\n",
       " 'dots',\n",
       " 'exercise',\n",
       " 'flights',\n",
       " 'fmri',\n",
       " 'gammas',\n",
       " 'geyser',\n",
       " 'iris',\n",
       " 'mpg',\n",
       " 'penguins',\n",
       " 'planets',\n",
       " 'taxis',\n",
       " 'tips',\n",
       " 'titanic']"
      ]
     },
     "execution_count": 4,
     "metadata": {},
     "output_type": "execute_result"
    }
   ],
   "source": [
    "sns.get_dataset_names()"
   ]
  },
  {
   "cell_type": "code",
   "execution_count": 7,
   "id": "df028d10",
   "metadata": {},
   "outputs": [
    {
     "data": {
      "text/html": [
       "<div>\n",
       "<style scoped>\n",
       "    .dataframe tbody tr th:only-of-type {\n",
       "        vertical-align: middle;\n",
       "    }\n",
       "\n",
       "    .dataframe tbody tr th {\n",
       "        vertical-align: top;\n",
       "    }\n",
       "\n",
       "    .dataframe thead th {\n",
       "        text-align: right;\n",
       "    }\n",
       "</style>\n",
       "<table border=\"1\" class=\"dataframe\">\n",
       "  <thead>\n",
       "    <tr style=\"text-align: right;\">\n",
       "      <th></th>\n",
       "      <th>total_bill</th>\n",
       "      <th>tip</th>\n",
       "      <th>sex</th>\n",
       "      <th>smoker</th>\n",
       "      <th>day</th>\n",
       "      <th>time</th>\n",
       "      <th>size</th>\n",
       "    </tr>\n",
       "  </thead>\n",
       "  <tbody>\n",
       "    <tr>\n",
       "      <th>0</th>\n",
       "      <td>16.99</td>\n",
       "      <td>1.01</td>\n",
       "      <td>Female</td>\n",
       "      <td>No</td>\n",
       "      <td>Sun</td>\n",
       "      <td>Dinner</td>\n",
       "      <td>2</td>\n",
       "    </tr>\n",
       "    <tr>\n",
       "      <th>1</th>\n",
       "      <td>10.34</td>\n",
       "      <td>1.66</td>\n",
       "      <td>Male</td>\n",
       "      <td>No</td>\n",
       "      <td>Sun</td>\n",
       "      <td>Dinner</td>\n",
       "      <td>3</td>\n",
       "    </tr>\n",
       "    <tr>\n",
       "      <th>2</th>\n",
       "      <td>21.01</td>\n",
       "      <td>3.50</td>\n",
       "      <td>Male</td>\n",
       "      <td>No</td>\n",
       "      <td>Sun</td>\n",
       "      <td>Dinner</td>\n",
       "      <td>3</td>\n",
       "    </tr>\n",
       "    <tr>\n",
       "      <th>3</th>\n",
       "      <td>23.68</td>\n",
       "      <td>3.31</td>\n",
       "      <td>Male</td>\n",
       "      <td>No</td>\n",
       "      <td>Sun</td>\n",
       "      <td>Dinner</td>\n",
       "      <td>2</td>\n",
       "    </tr>\n",
       "    <tr>\n",
       "      <th>4</th>\n",
       "      <td>24.59</td>\n",
       "      <td>3.61</td>\n",
       "      <td>Female</td>\n",
       "      <td>No</td>\n",
       "      <td>Sun</td>\n",
       "      <td>Dinner</td>\n",
       "      <td>4</td>\n",
       "    </tr>\n",
       "    <tr>\n",
       "      <th>...</th>\n",
       "      <td>...</td>\n",
       "      <td>...</td>\n",
       "      <td>...</td>\n",
       "      <td>...</td>\n",
       "      <td>...</td>\n",
       "      <td>...</td>\n",
       "      <td>...</td>\n",
       "    </tr>\n",
       "    <tr>\n",
       "      <th>239</th>\n",
       "      <td>29.03</td>\n",
       "      <td>5.92</td>\n",
       "      <td>Male</td>\n",
       "      <td>No</td>\n",
       "      <td>Sat</td>\n",
       "      <td>Dinner</td>\n",
       "      <td>3</td>\n",
       "    </tr>\n",
       "    <tr>\n",
       "      <th>240</th>\n",
       "      <td>27.18</td>\n",
       "      <td>2.00</td>\n",
       "      <td>Female</td>\n",
       "      <td>Yes</td>\n",
       "      <td>Sat</td>\n",
       "      <td>Dinner</td>\n",
       "      <td>2</td>\n",
       "    </tr>\n",
       "    <tr>\n",
       "      <th>241</th>\n",
       "      <td>22.67</td>\n",
       "      <td>2.00</td>\n",
       "      <td>Male</td>\n",
       "      <td>Yes</td>\n",
       "      <td>Sat</td>\n",
       "      <td>Dinner</td>\n",
       "      <td>2</td>\n",
       "    </tr>\n",
       "    <tr>\n",
       "      <th>242</th>\n",
       "      <td>17.82</td>\n",
       "      <td>1.75</td>\n",
       "      <td>Male</td>\n",
       "      <td>No</td>\n",
       "      <td>Sat</td>\n",
       "      <td>Dinner</td>\n",
       "      <td>2</td>\n",
       "    </tr>\n",
       "    <tr>\n",
       "      <th>243</th>\n",
       "      <td>18.78</td>\n",
       "      <td>3.00</td>\n",
       "      <td>Female</td>\n",
       "      <td>No</td>\n",
       "      <td>Thur</td>\n",
       "      <td>Dinner</td>\n",
       "      <td>2</td>\n",
       "    </tr>\n",
       "  </tbody>\n",
       "</table>\n",
       "<p>244 rows × 7 columns</p>\n",
       "</div>"
      ],
      "text/plain": [
       "     total_bill   tip     sex smoker   day    time  size\n",
       "0         16.99  1.01  Female     No   Sun  Dinner     2\n",
       "1         10.34  1.66    Male     No   Sun  Dinner     3\n",
       "2         21.01  3.50    Male     No   Sun  Dinner     3\n",
       "3         23.68  3.31    Male     No   Sun  Dinner     2\n",
       "4         24.59  3.61  Female     No   Sun  Dinner     4\n",
       "..          ...   ...     ...    ...   ...     ...   ...\n",
       "239       29.03  5.92    Male     No   Sat  Dinner     3\n",
       "240       27.18  2.00  Female    Yes   Sat  Dinner     2\n",
       "241       22.67  2.00    Male    Yes   Sat  Dinner     2\n",
       "242       17.82  1.75    Male     No   Sat  Dinner     2\n",
       "243       18.78  3.00  Female     No  Thur  Dinner     2\n",
       "\n",
       "[244 rows x 7 columns]"
      ]
     },
     "execution_count": 7,
     "metadata": {},
     "output_type": "execute_result"
    }
   ],
   "source": [
    "tips_data = load_dataset('tips')\n",
    "tips_data"
   ]
  },
  {
   "cell_type": "code",
   "execution_count": 30,
   "id": "3c60ff32",
   "metadata": {},
   "outputs": [
    {
     "data": {
      "text/html": [
       "<div>\n",
       "<style scoped>\n",
       "    .dataframe tbody tr th:only-of-type {\n",
       "        vertical-align: middle;\n",
       "    }\n",
       "\n",
       "    .dataframe tbody tr th {\n",
       "        vertical-align: top;\n",
       "    }\n",
       "\n",
       "    .dataframe thead th {\n",
       "        text-align: right;\n",
       "    }\n",
       "</style>\n",
       "<table border=\"1\" class=\"dataframe\">\n",
       "  <thead>\n",
       "    <tr style=\"text-align: right;\">\n",
       "      <th>smoker</th>\n",
       "      <th>Yes</th>\n",
       "      <th>No</th>\n",
       "    </tr>\n",
       "    <tr>\n",
       "      <th>sex</th>\n",
       "      <th></th>\n",
       "      <th></th>\n",
       "    </tr>\n",
       "  </thead>\n",
       "  <tbody>\n",
       "    <tr>\n",
       "      <th>Male</th>\n",
       "      <td>60</td>\n",
       "      <td>97</td>\n",
       "    </tr>\n",
       "    <tr>\n",
       "      <th>Female</th>\n",
       "      <td>33</td>\n",
       "      <td>54</td>\n",
       "    </tr>\n",
       "  </tbody>\n",
       "</table>\n",
       "</div>"
      ],
      "text/plain": [
       "smoker  Yes  No\n",
       "sex            \n",
       "Male     60  97\n",
       "Female   33  54"
      ]
     },
     "execution_count": 30,
     "metadata": {},
     "output_type": "execute_result"
    }
   ],
   "source": [
    "import pandas as pd\n",
    "observed_table = pd.crosstab(index = tips_data['sex'], columns = tips_data['smoker'])\n",
    "observed_table"
   ]
  },
  {
   "cell_type": "code",
   "execution_count": 31,
   "id": "b8d3d67b",
   "metadata": {},
   "outputs": [
    {
     "name": "stdout",
     "output_type": "stream",
     "text": [
      "**************************************************************\n",
      "Chi-squared value :  0.00876\n",
      "P-val             :  0.92542\n",
      "Degree of Freedom :  1\n",
      "Expected Table    :\n",
      " [[59.84016393 97.15983607]\n",
      " [33.15983607 53.84016393]]\n"
     ]
    }
   ],
   "source": [
    "from scipy import stats\n",
    "chi2_score,pval,dof,expected_table = stats.chi2_contingency(observed = observed_table)\n",
    "print('**************************************************************')\n",
    "print('Chi-squared value : ',round(chi2_score,5))\n",
    "print('P-val             : ',round(pval,5))\n",
    "print('Degree of Freedom : ',dof)\n",
    "print('Expected Table    :\\n',expected_table)"
   ]
  },
  {
   "cell_type": "markdown",
   "id": "a541089e",
   "metadata": {},
   "source": [
    "### ====================================================================================="
   ]
  },
  {
   "cell_type": "markdown",
   "id": "6a0df9d1",
   "metadata": {},
   "source": [
    "### Hyothesis Formulation:\n",
    "\n",
    "##### H0 : There is no association between Male smokers and female smokers.\n",
    "##### Ha : There is a association between Male smokers and female smokers(Statistically significant)."
   ]
  },
  {
   "cell_type": "markdown",
   "id": "efa1a254",
   "metadata": {},
   "source": [
    "### =================================================================================="
   ]
  },
  {
   "cell_type": "code",
   "execution_count": 26,
   "id": "f750f576",
   "metadata": {},
   "outputs": [
    {
     "name": "stdout",
     "output_type": "stream",
     "text": [
      "We do not reject the Null Hypothesis and we can claim that there is no association between male smokers and female smokers.\n"
     ]
    }
   ],
   "source": [
    "#Level if significance - 5%. ie, At 5% level of significance, do we reject ot not reject?\n",
    "if pval<0.05:\n",
    "    print('We can reject the Null Hypothesis and we can claim that there is a association between male smokers and female smokers.')\n",
    "else:\n",
    "    print('We do not reject the Null Hypothesis and we can claim that there is no association between male smokers and female smokers.')"
   ]
  },
  {
   "cell_type": "markdown",
   "id": "954f1524",
   "metadata": {},
   "source": [
    "## 2. T Test\n",
    "\n",
    "* 1 Sample\n",
    "* 2 Sample\n",
    "* Paired T Test\n",
    "* ANOVA"
   ]
  },
  {
   "cell_type": "code",
   "execution_count": 37,
   "id": "2567868a",
   "metadata": {},
   "outputs": [
    {
     "data": {
      "text/plain": [
       "30"
      ]
     },
     "execution_count": 37,
     "metadata": {},
     "output_type": "execute_result"
    }
   ],
   "source": [
    "ages = [45,40,30,20,60,50,40,30,60,45,40,30,35,20,23,34,46,58,50,40,30,35,20,23,34,46,58,50,46,58]\n",
    "len(ages) #Population"
   ]
  },
  {
   "cell_type": "code",
   "execution_count": 38,
   "id": "cbb98c4c",
   "metadata": {},
   "outputs": [
    {
     "data": {
      "text/plain": [
       "39.86666666666667"
      ]
     },
     "execution_count": 38,
     "metadata": {},
     "output_type": "execute_result"
    }
   ],
   "source": [
    "import numpy as np\n",
    "np.mean(ages) #population mean"
   ]
  },
  {
   "cell_type": "code",
   "execution_count": 40,
   "id": "50c70058",
   "metadata": {},
   "outputs": [
    {
     "data": {
      "text/plain": [
       "array([58, 30, 30, 50, 23])"
      ]
     },
     "execution_count": 40,
     "metadata": {},
     "output_type": "execute_result"
    }
   ],
   "source": [
    "random_selection_from_population = np.random.choice(a = ages, size=5)\n",
    "random_selection_from_population"
   ]
  },
  {
   "cell_type": "code",
   "execution_count": 41,
   "id": "ca1f8afb",
   "metadata": {},
   "outputs": [
    {
     "data": {
      "text/plain": [
       "38.2"
      ]
     },
     "execution_count": 41,
     "metadata": {},
     "output_type": "execute_result"
    }
   ],
   "source": [
    "np.mean(random_selection_from_population) #Sample Mean"
   ]
  },
  {
   "cell_type": "code",
   "execution_count": 53,
   "id": "f4e9ac15",
   "metadata": {},
   "outputs": [
    {
     "name": "stdout",
     "output_type": "stream",
     "text": [
      "-0.2688064609902741\n",
      "0.8013735469801487\n"
     ]
    }
   ],
   "source": [
    "_,pval = stats.ttest_1samp(a = random_selection_from_population,popmean = 40 )\n",
    "print(_)\n",
    "print(pval)"
   ]
  },
  {
   "cell_type": "code",
   "execution_count": 51,
   "id": "a1723ac7",
   "metadata": {},
   "outputs": [
    {
     "name": "stdout",
     "output_type": "stream",
     "text": [
      "We do not reject the Null Hypothesis and we can claim that there is no significant difference in the population mean and sample mean\n"
     ]
    }
   ],
   "source": [
    "#Level if significance - 10%. ie, At 10% level of significance, do we reject ot not reject?\n",
    "if pval<0.1:\n",
    "    print('We can reject the Null Hypothesis and we can claim that there is a significant difference in the population mean and sample mean')\n",
    "else:\n",
    "    print('We do not reject the Null Hypothesis and we can claim that there is no significant difference in the population mean and sample mean')"
   ]
  },
  {
   "cell_type": "markdown",
   "id": "bb282830",
   "metadata": {},
   "source": [
    "### 2 Sample T test"
   ]
  },
  {
   "cell_type": "code",
   "execution_count": 44,
   "id": "2149b4ba",
   "metadata": {},
   "outputs": [],
   "source": [
    "covishield_reaction_time = [48,50,24,24,24,50]\n",
    "covaxin_reaction_time    = [0,0,2,0,2,0]"
   ]
  },
  {
   "cell_type": "code",
   "execution_count": 45,
   "id": "37767a35",
   "metadata": {},
   "outputs": [
    {
     "data": {
      "text/plain": [
       "36.666666666666664"
      ]
     },
     "execution_count": 45,
     "metadata": {},
     "output_type": "execute_result"
    }
   ],
   "source": [
    "np.mean(covishield_reaction_time)"
   ]
  },
  {
   "cell_type": "code",
   "execution_count": 46,
   "id": "8a07ab2f",
   "metadata": {},
   "outputs": [
    {
     "data": {
      "text/plain": [
       "0.6666666666666666"
      ]
     },
     "execution_count": 46,
     "metadata": {},
     "output_type": "execute_result"
    }
   ],
   "source": [
    "np.mean(covaxin_reaction_time)"
   ]
  },
  {
   "cell_type": "code",
   "execution_count": 54,
   "id": "fc990dd0",
   "metadata": {},
   "outputs": [],
   "source": [
    "_,pval = stats.ttest_ind(a = covishield_reaction_time,b = covaxin_reaction_time)"
   ]
  },
  {
   "cell_type": "code",
   "execution_count": 56,
   "id": "30bb035f",
   "metadata": {},
   "outputs": [
    {
     "name": "stdout",
     "output_type": "stream",
     "text": [
      "We reject the Null Hypothesis and we can claim that there is a significant difference in the average reaction time of covishield and covaxin\n"
     ]
    }
   ],
   "source": [
    "#Level if significance - 1%. ie, At 1% level of significance, do we reject ot not reject?\n",
    "if pval<0.01:\n",
    "    print('We reject the Null Hypothesis and we can claim that there is a significant difference in the average reaction time of covishield and covaxin')\n",
    "else:\n",
    "    print('We do not reject the Null Hypothesis and we can claim that there is no significant difference in the average reaction time of covishield and covaxin')"
   ]
  },
  {
   "cell_type": "markdown",
   "id": "e05417a8",
   "metadata": {},
   "source": [
    "### Paired T test"
   ]
  },
  {
   "cell_type": "code",
   "execution_count": 61,
   "id": "339a7458",
   "metadata": {},
   "outputs": [],
   "source": [
    "preweightloss_program  = [110,100,120,105,100,110,99,120,110,100]\n",
    "postweightloss_program = [80,78,90,89,88,90,80,80,85,70]"
   ]
  },
  {
   "cell_type": "code",
   "execution_count": 59,
   "id": "5fe544dd",
   "metadata": {},
   "outputs": [
    {
     "data": {
      "text/plain": [
       "107.4"
      ]
     },
     "execution_count": 59,
     "metadata": {},
     "output_type": "execute_result"
    }
   ],
   "source": [
    "np.mean(preweightloss_program)"
   ]
  },
  {
   "cell_type": "code",
   "execution_count": 62,
   "id": "abbcd260",
   "metadata": {},
   "outputs": [
    {
     "data": {
      "text/plain": [
       "83.0"
      ]
     },
     "execution_count": 62,
     "metadata": {},
     "output_type": "execute_result"
    }
   ],
   "source": [
    "np.mean(postweightloss_program)"
   ]
  },
  {
   "cell_type": "code",
   "execution_count": 65,
   "id": "14cb310c",
   "metadata": {},
   "outputs": [
    {
     "data": {
      "text/plain": [
       "6.389963390670724e-06"
      ]
     },
     "execution_count": 65,
     "metadata": {},
     "output_type": "execute_result"
    }
   ],
   "source": [
    "_,pval = stats.ttest_rel(a = preweightloss_program, b = postweightloss_program)\n",
    "pval"
   ]
  },
  {
   "cell_type": "code",
   "execution_count": 67,
   "id": "bc5dfa86",
   "metadata": {},
   "outputs": [
    {
     "name": "stdout",
     "output_type": "stream",
     "text": [
      "We reject the Null Hypothesis and we can claim that there is a significant difference in the average weights before and after the weighloss program\n"
     ]
    }
   ],
   "source": [
    "#Level if significance - 5%. ie, At 5% level of significance, do we reject ot not reject?\n",
    "if pval<0.05:\n",
    "    print('We reject the Null Hypothesis and we can claim that there is a significant difference in the average weights before and after the weighloss program')\n",
    "else:\n",
    "    print('We do not reject the Null Hypothesis and we can claim that there is no significant difference in the average weights before and after the weighloss program')"
   ]
  },
  {
   "cell_type": "markdown",
   "id": "29618b91",
   "metadata": {},
   "source": [
    "### ANOVA"
   ]
  },
  {
   "cell_type": "code",
   "execution_count": 69,
   "id": "89de97cc",
   "metadata": {},
   "outputs": [],
   "source": [
    "stats.f_oneway()"
   ]
  },
  {
   "cell_type": "markdown",
   "id": "6e13912d",
   "metadata": {},
   "source": [
    "### TASK\n",
    "\n",
    "#### FORMULATE 2 HYPOTHESIS STATEMENT FOR EACH STATISTICAL TEST along with SCRIPTS."
   ]
  },
  {
   "cell_type": "code",
   "execution_count": null,
   "id": "7563e50d",
   "metadata": {},
   "outputs": [],
   "source": []
  }
 ],
 "metadata": {
  "kernelspec": {
   "display_name": "Python 3",
   "language": "python",
   "name": "python3"
  },
  "language_info": {
   "codemirror_mode": {
    "name": "ipython",
    "version": 3
   },
   "file_extension": ".py",
   "mimetype": "text/x-python",
   "name": "python",
   "nbconvert_exporter": "python",
   "pygments_lexer": "ipython3",
   "version": "3.8.8"
  }
 },
 "nbformat": 4,
 "nbformat_minor": 5
}
